{
  "nbformat": 4,
  "nbformat_minor": 0,
  "metadata": {
    "colab": {
      "name": "XGBoost-TDC.ipynb",
      "provenance": [],
      "collapsed_sections": [],
      "authorship_tag": "ABX9TyMPvEDPfy3Y/wDdfZYWuYkD",
      "include_colab_link": true
    },
    "kernelspec": {
      "name": "python3",
      "display_name": "Python 3"
    },
    "language_info": {
      "name": "python"
    }
  },
  "cells": [
    {
      "cell_type": "markdown",
      "metadata": {
        "id": "view-in-github",
        "colab_type": "text"
      },
      "source": [
        "<a href=\"https://colab.research.google.com/github/obraia/xgboost-tdc/blob/main/XGBoost_TDC.ipynb\" target=\"_parent\"><img src=\"https://colab.research.google.com/assets/colab-badge.svg\" alt=\"Open In Colab\"/></a>"
      ]
    },
    {
      "cell_type": "markdown",
      "metadata": {
        "id": "7LOoQD5aCocf"
      },
      "source": [
        "<header>\n",
        "  <img src=\"https://upload.wikimedia.org/wikipedia/commons/c/c3/Python-logo-notext.svg\" width=\"100\" align=\"left\" hspace=\"10px\" vspace=\"0px\"/>\n",
        "  \n",
        "  <h1><b>XGBoost</b> - TDC</h1>\n",
        "  <h4>Bryan Diniz, Débora Oliveira, Isabela Fonseca e Thais Lorentz</h4>\n",
        "</header>\n",
        "\n",
        "<p>e<b>X</b>treme <b>G</b>radient <b>Boost</b>ing</p>"
      ]
    },
    {
      "cell_type": "markdown",
      "metadata": {
        "id": "jo9ZA0ogDduU"
      },
      "source": [
        "<h3><b>1 - Importação das bibliotecas necessárias</b></h3>\n",
        "\n",
        "<p></p>"
      ]
    },
    {
      "cell_type": "code",
      "metadata": {
        "id": "bdT7lkwKBfpg",
        "colab": {
          "base_uri": "https://localhost:8080/"
        },
        "outputId": "233f0e95-ad75-4500-a9c7-8dfa5c1b22e7"
      },
      "source": [
        "import numpy as np\n",
        "import pandas as pd\n",
        "import seaborn as sns\n",
        "import matplotlib.pyplot as plt\n",
        "from sklearn.model_selection import train_test_split\n",
        "from sklearn.metrics import plot_confusion_matrix\n",
        "from sklearn.metrics import mean_absolute_error\n",
        "from sklearn.metrics import mean_squared_error\n",
        "from sklearn.metrics import accuracy_score\n",
        "from sklearn.impute import SimpleImputer\n",
        "from sklearn import preprocessing\n",
        "from xgboost import XGBClassifier\n",
        "from xgboost import plot_tree\n",
        "from google.colab import files\n",
        "from io import BytesIO\n",
        "\n",
        "print('Bibliotecas importadas!')"
      ],
      "execution_count": 1,
      "outputs": [
        {
          "output_type": "stream",
          "name": "stdout",
          "text": [
            "Bibliotecas importadas!\n"
          ]
        }
      ]
    },
    {
      "cell_type": "markdown",
      "metadata": {
        "id": "snohvJuWDplj"
      },
      "source": [
        "<h3><b>2 - Importação do dataset</b></h3>\n",
        "\n",
        "<p>É possível carregar o arquivo .csv localmente.</p>"
      ]
    },
    {
      "cell_type": "code",
      "metadata": {
        "id": "zZ0xBkYFDxJi",
        "colab": {
          "resources": {
            "http://localhost:8080/nbextensions/google.colab/files.js": {
              "data": "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",
              "ok": true,
              "headers": [
                [
                  "content-type",
                  "application/javascript"
                ]
              ],
              "status": 200,
              "status_text": ""
            }
          },
          "base_uri": "https://localhost:8080/",
          "height": 39
        },
        "outputId": "f4688937-a41a-4cf9-c685-486106dbb5a6"
      },
      "source": [
        "arquivos = files.upload()\n",
        "nomeArquivo = list(arquivos.keys())[0]\n",
        "\n",
        "if not nomeArquivo.endswith('.csv'):\n",
        "  raise Exception('Tipo de arquivo inválido!')\n",
        "\n",
        "arquivo = arquivos[nomeArquivo]\n",
        "\n",
        "df = pd.read_csv(BytesIO(arquivo))\n",
        "\n",
        "print('Dataset \"{nome}\" importado!'.format(nome=nomeArquivo))"
      ],
      "execution_count": null,
      "outputs": [
        {
          "output_type": "display_data",
          "data": {
            "text/html": [
              "\n",
              "     <input type=\"file\" id=\"files-d32258d8-88d5-4500-ab23-cac04494bc41\" name=\"files[]\" multiple disabled\n",
              "        style=\"border:none\" />\n",
              "     <output id=\"result-d32258d8-88d5-4500-ab23-cac04494bc41\">\n",
              "      Upload widget is only available when the cell has been executed in the\n",
              "      current browser session. Please rerun this cell to enable.\n",
              "      </output>\n",
              "      <script src=\"/nbextensions/google.colab/files.js\"></script> "
            ],
            "text/plain": [
              "<IPython.core.display.HTML object>"
            ]
          },
          "metadata": {}
        }
      ]
    },
    {
      "cell_type": "markdown",
      "metadata": {
        "id": "jm382qdQ4z3K"
      },
      "source": [
        "<h3><b>3 - Exibição das 5 primeiras instâncias do dataset</b></h3>\n",
        "\n",
        "<p></p>"
      ]
    },
    {
      "cell_type": "code",
      "metadata": {
        "id": "-Ik3nHdW5b_Q"
      },
      "source": [
        "df.head()"
      ],
      "execution_count": null,
      "outputs": []
    },
    {
      "cell_type": "markdown",
      "metadata": {
        "id": "C_y1TvaqnZgt"
      },
      "source": [
        "<h3><b>4 - Exibição de informações dos atributos do dataset</b></h3>\n",
        "\n",
        "<p></p>"
      ]
    },
    {
      "cell_type": "code",
      "metadata": {
        "id": "QyUYiNFFnjPj"
      },
      "source": [
        "df.info()"
      ],
      "execution_count": null,
      "outputs": []
    },
    {
      "cell_type": "markdown",
      "metadata": {
        "id": "ejL6ldJLOHEJ"
      },
      "source": [
        "<h3><b>5 - Pré-processamento dos dados</b></h3>\n",
        "\n",
        "<p>Os dados do dataset serão processado de forma que fique compatível com o algorítmo XGBoost, e buscando os melhores resultados</p>"
      ]
    },
    {
      "cell_type": "markdown",
      "metadata": {
        "id": "M08E6giT6ZaU"
      },
      "source": [
        "<h4><b>5.1 - Tratamento de valores ausentes</b></h4>\n",
        "\n",
        "<p></p>"
      ]
    },
    {
      "cell_type": "code",
      "metadata": {
        "id": "JHeK_jPJvAUS"
      },
      "source": [
        "def print_valores_ausentes():\n",
        "  print(df.isnull().sum())\n",
        "\n",
        "print_valores_ausentes()"
      ],
      "execution_count": null,
      "outputs": []
    },
    {
      "cell_type": "markdown",
      "metadata": {
        "id": "EYF83zaRnYi1"
      },
      "source": [
        "<h5><b>5.1.2 - Exclusão de instâncias com valores ausentes</b></h5>\n",
        "\n",
        "<p></p>"
      ]
    },
    {
      "cell_type": "code",
      "metadata": {
        "id": "NXk7nqUz74jH"
      },
      "source": [
        "df.dropna(inplace=True)\n",
        "\n",
        "print_valores_ausentes()"
      ],
      "execution_count": null,
      "outputs": []
    },
    {
      "cell_type": "markdown",
      "metadata": {
        "id": "pMdTxkSXDxs1"
      },
      "source": [
        "<h5><b>5.1.3 - Preenchimento de valores ausentes com a média</b></h5>\n",
        "\n",
        "<p></p>"
      ]
    },
    {
      "cell_type": "code",
      "metadata": {
        "id": "HJRY9vYzD_i1"
      },
      "source": [
        "media_temperature = round(df.temperature.mean())\n",
        "\n",
        "df.temperature.fillna(media_temperature, inplace=True)"
      ],
      "execution_count": null,
      "outputs": []
    },
    {
      "cell_type": "markdown",
      "metadata": {
        "id": "YoNfhdALtQOg"
      },
      "source": [
        "<h5><b>5.1.4 - Preenchimento de valores ausentes com a mediana</b></h5>\n",
        "\n",
        "<p></p>"
      ]
    },
    {
      "cell_type": "code",
      "metadata": {
        "id": "1KNVoQkItecQ"
      },
      "source": [
        "mediana_temperature = df.temperature.median()\n",
        "\n",
        "df.temperature.fillna(mediana_temperature, inplace=True)"
      ],
      "execution_count": null,
      "outputs": []
    },
    {
      "cell_type": "markdown",
      "metadata": {
        "id": "aoCTsfZ8xtZ3"
      },
      "source": [
        "<h5><b>5.1.5 - Preenchimento de valores ausentes com a moda (Valores que mais se repetem)</b></h5>\n",
        "\n",
        "<p></p>"
      ]
    },
    {
      "cell_type": "code",
      "metadata": {
        "id": "GYDKv5Bhx0g0"
      },
      "source": [
        "moda_star_color = df.star_color.mode()[0]\n",
        "\n",
        "df.star_color.fillna(moda_star_color, inplace=True)"
      ],
      "execution_count": null,
      "outputs": []
    },
    {
      "cell_type": "markdown",
      "metadata": {
        "id": "7XuKbPKxRD-f"
      },
      "source": [
        "<h4><b>5.2 - Converter variáveis categóricas para numéricas</b></h4>\n",
        "\n",
        "<p>Como o algoritmo XGBoost só trabalha com valores númericos, os próximos passos serão de transformações dos atributos</p>"
      ]
    },
    {
      "cell_type": "markdown",
      "metadata": {
        "id": "CDr22v_fsTT9"
      },
      "source": [
        "<h5><b>5.2.1 - Conversão de atributos categóricos para atributos simbólicos</b></h5>\n",
        "\n",
        "<p>Nessa etapa iremos transformar os atributos <b>star_color</b> e <b>spectral_class</b> usando o conceito de <b>conversão simbólico-numérico</b></p>"
      ]
    },
    {
      "cell_type": "code",
      "metadata": {
        "id": "qay9GlvzTEuj"
      },
      "source": [
        "df_2 = pd.get_dummies(df, columns=['star_color'], drop_first=True)\n",
        "df_2 = pd.get_dummies(df_2, columns=['spectral_class'], drop_first=True)\n",
        "\n",
        "df_2.head()"
      ],
      "execution_count": null,
      "outputs": []
    },
    {
      "cell_type": "markdown",
      "metadata": {
        "id": "sxokeOmVz7s-"
      },
      "source": [
        "<h5><b>5.2.1 - Conversão da classe categórica para numérica</b></h5>\n",
        "\n",
        "<p>Diferente da etapa anterior, nossa classe pode manter uma relação númerica, isso não trará problemas na classificação, logo vamos usar uma conversão simples para atender ao algoritmo</p>"
      ]
    },
    {
      "cell_type": "code",
      "metadata": {
        "id": "YQYvw5LP0RxL"
      },
      "source": [
        "df_3 = df_2.copy()\n",
        "\n",
        "# transformação da nossa classe para uma variável category do pandas e conversão para inteiro\n",
        "df_3['star_type'] = df_3['star_type'].astype('category').cat.codes\n",
        "\n",
        "\n",
        "df_3.head()"
      ],
      "execution_count": null,
      "outputs": []
    },
    {
      "cell_type": "markdown",
      "metadata": {
        "id": "Qddmqg045FXh"
      },
      "source": [
        "<h5><b>5.2.2 - Visualização de como ficou o dataset após os tratamentos</b></h5>\n",
        "\n",
        "<p></p>"
      ]
    },
    {
      "cell_type": "code",
      "metadata": {
        "id": "d3q3ZxRn496R"
      },
      "source": [
        "df_3.info()"
      ],
      "execution_count": null,
      "outputs": []
    },
    {
      "cell_type": "markdown",
      "metadata": {
        "id": "xG1tP00ICSEI"
      },
      "source": [
        "<h5><b>5.2.3 Divisão do dataset</b></h5>\n",
        "\n",
        "<p>Etapa onde os dados serão separados em conjuntos de treino, testes e a classe</p>"
      ]
    },
    {
      "cell_type": "code",
      "metadata": {
        "id": "ksQb_NV6Cr9_"
      },
      "source": [
        "y = df_3['star_type']\n",
        "x = df_3.drop(['star_type'], axis=1)\n",
        "\n",
        "# dividir entre conjuntos de treino e teste\n",
        "train_x, test_x, train_y, test_y = train_test_split(x.values, y.values, test_size=0.33, random_state=7)"
      ],
      "execution_count": null,
      "outputs": []
    },
    {
      "cell_type": "markdown",
      "metadata": {
        "id": "EOZ0KBWRCCSP"
      },
      "source": [
        "<h3><b>6 - Implementação do XGBoost</b></h3>\n",
        "\n",
        "<p></p>"
      ]
    },
    {
      "cell_type": "markdown",
      "metadata": {
        "id": "p1nDdztrDHf4"
      },
      "source": [
        "<h4><b>6.1 Inicio do treino e predição do modelo</b></h4>\n",
        "\n",
        "<p>Ao aumentar o número de árvores <b>(n_estimators)</b> no modelo, é recomendado que diminua a taxa de aprendizado <b>(learning_rate)</b>, para que cada árvore não tenha uma grande influência e assim causando overfitting</p>"
      ]
    },
    {
      "cell_type": "code",
      "metadata": {
        "id": "_V8YQeJYDc2h"
      },
      "source": [
        "model = XGBClassifier(learning_rate=0.01, n_estimators=700, max_depth=5, colsample_bynode=1, random_state=0)\n",
        " \n",
        "model.fit(train_x, train_y)\n",
        " \n",
        "y_pred = model.predict(test_x)\n",
        "predictions = [round(value) for value in y_pred]\n",
        "\n",
        "absolute_error = mean_absolute_error(test_y, predictions)\n",
        "squared_error = mean_squared_error(test_y, predictions)\n",
        "accuracy = accuracy_score(test_y, predictions)\n",
        "\n",
        "print(np.sqrt(squared_error))\n",
        "print(\"Erro médio absoluto: {:.4f}\".format(absolute_error))\n",
        "print(\"Erro quadrático médio: {:.4f}\".format(squared_error))\n",
        "print(\"Accuracy: {:.2f}%\".format(accuracy * 100.0))"
      ],
      "execution_count": null,
      "outputs": []
    },
    {
      "cell_type": "markdown",
      "metadata": {
        "id": "WVxuL-qV6nVo"
      },
      "source": [
        "<h4><b>6.2 Avalidando o modelo</b></h4>\n",
        "\n",
        "<p></p>"
      ]
    },
    {
      "cell_type": "markdown",
      "metadata": {
        "id": "ZRUOYzFOLcEA"
      },
      "source": [
        "<h5><b>6.2.1 Matriz de confusão</b></h5>\n",
        "\n",
        "<p></p>"
      ]
    },
    {
      "cell_type": "code",
      "metadata": {
        "id": "P8d2nE686uOA"
      },
      "source": [
        "tipos_estrelas = df.star_type.unique()\n",
        "\n",
        "fig, ax = plt.subplots(figsize=(10, 10))\n",
        "plot_confusion_matrix(model, test_x, test_y, display_labels=tipos_estrelas, cmap=plt.cm.YlGn, ax=ax)  "
      ],
      "execution_count": null,
      "outputs": []
    },
    {
      "cell_type": "markdown",
      "metadata": {
        "id": "Z1VvLHCFWjI1"
      },
      "source": [
        "<h5><b>6.2.2 Matriz de correlação</b></h5>\n",
        "\n",
        "<p></p>"
      ]
    },
    {
      "cell_type": "code",
      "metadata": {
        "id": "d4ymNjtvWset"
      },
      "source": [
        "df_4 = df.copy()\n",
        "\n",
        "df_4['star_type'] = df_4['star_type'].astype('category').cat.codes\n",
        "df_4['star_color'] = df_4['star_color'].astype('category').cat.codes\n",
        "df_4['spectral_class'] = df_4['spectral_class'].astype('category').cat.codes\n",
        "\n",
        "correlacao = df_4.corr()\n",
        "\n",
        "fig, ax = plt.subplots(figsize=(10, 10))\n",
        "sns.heatmap(correlacao, annot=True, cmap=plt.cm.YlGn, square=True, ax=ax)\n",
        "plt.show()"
      ],
      "execution_count": null,
      "outputs": []
    },
    {
      "cell_type": "code",
      "metadata": {
        "id": "cgdlFrGXoEaZ"
      },
      "source": [
        ""
      ],
      "execution_count": null,
      "outputs": []
    },
    {
      "cell_type": "markdown",
      "metadata": {
        "id": "QR_oK0lGv7qW"
      },
      "source": [
        "<h5><b>6.2.3 Importância dos atributos</b></h5>\n",
        "\n",
        "<p></p>"
      ]
    },
    {
      "cell_type": "code",
      "metadata": {
        "id": "qHc0HgN6wB3H"
      },
      "source": [
        "fig, ax = plt.subplots(figsize=(10, 10))\n",
        "\n",
        "plot_tree(model, num_trees=1, rankdir='LR')"
      ],
      "execution_count": null,
      "outputs": []
    }
  ]
}